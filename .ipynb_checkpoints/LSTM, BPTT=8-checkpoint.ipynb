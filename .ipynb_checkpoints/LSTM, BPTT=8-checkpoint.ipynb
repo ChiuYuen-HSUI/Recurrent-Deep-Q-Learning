{
 "cells": [
  {
   "cell_type": "code",
   "execution_count": 2,
   "metadata": {},
   "outputs": [],
   "source": [
    "import numpy as np\n",
    "import random\n",
    "import torch.nn as nn\n",
    "import torch\n",
    "%matplotlib inline\n",
    "import matplotlib.pyplot as plt\n",
    "from collections import deque\n",
    "from skimage.color import rgb2gray\n",
    "import pickle"
   ]
  },
  {
   "cell_type": "markdown",
   "metadata": {},
   "source": [
    "<h3> Load the game environment </h3>"
   ]
  },
  {
   "cell_type": "code",
   "execution_count": 3,
   "metadata": {},
   "outputs": [],
   "source": [
    "from gridworld import gameEnv"
   ]
  },
  {
   "cell_type": "code",
   "execution_count": 4,
   "metadata": {},
   "outputs": [
    {
     "data": {
      "image/png": "[encoded data removed]",
      "text/plain": [
       "<Figure size 432x288 with 1 Axes>"
      ]
     },
     "metadata": {
      "needs_background": "light"
     },
     "output_type": "display_data"
    }
   ],
   "source": [
    "env = gameEnv(partial=True,size=9)\n",
    "prev_state = env.reset()"
   ]
  },
  {
   "cell_type": "markdown",
   "metadata": {},
   "source": [
    "<h3> Set Device </h3>"
   ]
  },
  {
   "cell_type": "code",
   "execution_count": 5,
   "metadata": {},
   "outputs": [
    {
     "name": "stdout",
     "output_type": "stream",
     "text": [
      "cpu\n"
     ]
    }
   ],
   "source": [
    "device = torch.device('cuda' if torch.cuda.is_available() else 'cpu')\n",
    "print(device)"
   ]
  },
  {
   "cell_type": "markdown",
   "metadata": {},
   "source": [
    "<h1 align='center'> Training Deep Recurrent Q Network (LSTM) </h1>"
   ]
  },
  {
   "cell_type": "markdown",
   "metadata": {},
   "source": [
    "<h3> Hyper-parameters </h3>"
   ]
  },
  {
   "cell_type": "code",
   "execution_count": 6,
   "metadata": {},
   "outputs": [],
   "source": [
    "INPUT_IMAGE_DIM = 84\n",
    "OUT_SIZE = 4\n",
    "BATCH_SIZE = 32\n",
    "TIME_STEP = 8\n",
    "GAMMA = 0.99\n",
    "INITIAL_EPSILON = 1.0\n",
    "FINAL_EPSILON = 0.1\n",
    "TOTAL_EPSIODES = 20000\n",
    "MAX_STEPS = 50\n",
    "MEMORY_SIZE = 3000\n",
    "UPDATE_FREQ = 5\n",
    "PERFORMANCE_SAVE_INTERVAL = 500\n",
    "TARGET_UPDATE_FREQ = 20000 #steps"
   ]
  },
  {
   "cell_type": "markdown",
   "metadata": {},
   "source": [
    "<h3> Build Model </h3>"
   ]
  },
  {
   "cell_type": "code",
   "execution_count": 7,
   "metadata": {},
   "outputs": [
    {
     "name": "stdout",
     "output_type": "stream",
     "text": [
      "Network(\n",
      "  (conv_layer1): Conv2d(1, 32, kernel_size=(8, 8), stride=(4, 4))\n",
      "  (conv_layer2): Conv2d(32, 64, kernel_size=(4, 4), stride=(2, 2))\n",
      "  (conv_layer3): Conv2d(64, 64, kernel_size=(3, 3), stride=(1, 1))\n",
      "  (conv_layer4): Conv2d(64, 512, kernel_size=(7, 7), stride=(1, 1))\n",
      "  (lstm_layer): LSTM(512, 512, batch_first=True)\n",
      "  (adv): Linear(in_features=512, out_features=4, bias=True)\n",
      "  (val): Linear(in_features=512, out_features=1, bias=True)\n",
      "  (relu): ReLU()\n",
      ")\n"
     ]
    }
   ],
   "source": [
    "class Network(nn.Module):\n",
    "    \n",
    "    def __init__(self,input_size,out_size):\n",
    "        super(Network,self).__init__()\n",
    "        self.input_size = input_size\n",
    "        self.out_size = out_size\n",
    "        \n",
    "        self.conv_layer1 = nn.Conv2d(in_channels=1,out_channels=32,kernel_size=8,stride=4) # potential check - in_channels\n",
    "        self.conv_layer2 = nn.Conv2d(in_channels=32,out_channels=64,kernel_size=4,stride=2)\n",
    "        self.conv_layer3 = nn.Conv2d(in_channels=64,out_channels=64,kernel_size=3,stride=1)\n",
    "        self.conv_layer4 = nn.Conv2d(in_channels=64,out_channels=512,kernel_size=7,stride=1)\n",
    "        self.lstm_layer = nn.LSTM(input_size=512,hidden_size=512,num_layers=1,batch_first=True)\n",
    "        self.adv = nn.Linear(in_features=512,out_features=self.out_size)\n",
    "        self.val = nn.Linear(in_features=512,out_features=1)\n",
    "        self.relu = nn.ReLU()\n",
    "        \n",
    "    def forward(self,x,bsize,time_step,hidden_state,cell_state):\n",
    "        x = x.view(bsize*time_step,1,self.input_size,self.input_size)\n",
    "        \n",
    "        conv_out = self.conv_layer1(x)\n",
    "        conv_out = self.relu(conv_out)\n",
    "        conv_out = self.conv_layer2(conv_out)\n",
    "        conv_out = self.relu(conv_out)\n",
    "        conv_out = self.conv_layer3(conv_out)\n",
    "        conv_out = self.relu(conv_out)\n",
    "        conv_out = self.conv_layer4(conv_out)\n",
    "        conv_out = self.relu(conv_out)\n",
    "        \n",
    "        conv_out = conv_out.view(bsize,time_step,512)\n",
    "        \n",
    "        lstm_out = self.lstm_layer(conv_out,(hidden_state,cell_state))\n",
    "        out = lstm_out[0][:,time_step-1,:]\n",
    "        h_n = lstm_out[1][0]\n",
    "        c_n = lstm_out[1][1]\n",
    "        \n",
    "        adv_out = self.adv(out)\n",
    "        val_out = self.val(out)\n",
    "        \n",
    "        qout = val_out.expand(bsize,self.out_size) + (adv_out - adv_out.mean(dim=1).unsqueeze(dim=1).expand(bsize,self.out_size))\n",
    "        \n",
    "        return qout, (h_n,c_n)\n",
    "    \n",
    "    def init_hidden_states(self,bsize):\n",
    "        h = torch.zeros(1,bsize,512).float().to(device)\n",
    "        c = torch.zeros(1,bsize,512).float().to(device)\n",
    "        \n",
    "        return h,c\n",
    "    \n",
    "main_model = Network(input_size=INPUT_IMAGE_DIM,out_size=OUT_SIZE).to(device)\n",
    "print(main_model)"
   ]
  },
  {
   "cell_type": "markdown",
   "metadata": {},
   "source": [
    "<h3>Experience Replay </h3>"
   ]
  },
  {
   "cell_type": "code",
   "execution_count": 7,
   "metadata": {
    "collapsed": true
   },
   "outputs": [],
   "source": [
    "class Memory():\n",
    "    \n",
    "    def __init__(self,memsize):\n",
    "        self.memsize = memsize\n",
    "        self.memory = deque(maxlen=self.memsize)\n",
    "    \n",
    "    def add_episode(self,epsiode):\n",
    "        self.memory.append(epsiode)\n",
    "    \n",
    "    def get_batch(self,bsize,time_step):\n",
    "        sampled_epsiodes = random.sample(self.memory,bsize)\n",
    "        batch = []\n",
    "        for episode in sampled_epsiodes:\n",
    "            point = np.random.randint(0,len(episode)+1-time_step)\n",
    "            batch.append(episode[point:point+time_step])\n",
    "        return batch"
   ]
  },
  {
   "cell_type": "markdown",
   "metadata": {},
   "source": [
    "<h3> Preprocess Image </h3>"
   ]
  },
  {
   "cell_type": "code",
   "execution_count": 8,
   "metadata": {},
   "outputs": [],
   "source": [
    "def preprocess_image(image):\n",
    "    return rgb2gray(image)"
   ]
  },
  {
   "cell_type": "code",
   "execution_count": 11,
   "metadata": {},
   "outputs": [
    {
     "data": {
      "text/plain": [
       "<matplotlib.image.AxesImage at 0x7fd367714080>"
      ]
     },
     "execution_count": 11,
     "metadata": {},
     "output_type": "execute_result"
    },
    {
     "data": {
      "image/png": "[encoded data removed]",
      "text/plain": [
       "<Figure size 432x288 with 1 Axes>"
      ]
     },
     "metadata": {},
     "output_type": "display_data"
    }
   ],
   "source": [
    "plt.imshow(preprocess_image(prev_state),cmap='gray')"
   ]
  },
  {
   "cell_type": "markdown",
   "metadata": {},
   "source": [
    "<h3> Save Dictionary Function </h3>"
   ]
  },
  {
   "cell_type": "code",
   "execution_count": 12,
   "metadata": {
    "collapsed": true
   },
   "outputs": [],
   "source": [
    "def save_obj(obj, name ):\n",
    "    with open('data/'+ name + '.pkl', 'wb') as f:\n",
    "        pickle.dump(obj, f, pickle.HIGHEST_PROTOCOL)"
   ]
  },
  {
   "cell_type": "markdown",
   "metadata": {},
   "source": [
    "<h3> DQN With LSTM </h3>"
   ]
  },
  {
   "cell_type": "code",
   "execution_count": null,
   "metadata": {},
   "outputs": [
    {
     "name": "stdout",
     "output_type": "stream",
     "text": [
      "Populated with 3000 Episodes\n"
     ]
    }
   ],
   "source": [
    "mem = Memory(memsize=MEMORY_SIZE)\n",
    "\n",
    "main_model = Network(input_size=INPUT_IMAGE_DIM,out_size=OUT_SIZE).float().to(device)\n",
    "target_model = Network(input_size=INPUT_IMAGE_DIM,out_size=OUT_SIZE).float().to(device)\n",
    "\n",
    "target_model.load_state_dict(main_model.state_dict())\n",
    "criterion = nn.SmoothL1Loss()\n",
    "optimizer = torch.optim.Adam(main_model.parameters(),lr=0.00025)\n",
    "\n",
    "\n",
    "# Fill memory\n",
    "for i in range(0,MEMORY_SIZE):\n",
    "    \n",
    "    prev_state = env.reset()\n",
    "    processed_prev_state = preprocess_image(prev_state)\n",
    "    step_count = 0\n",
    "    local_memory = []\n",
    "    \n",
    "    while step_count < MAX_STEPS:\n",
    "        \n",
    "        step_count +=1\n",
    "        action = np.random.randint(0,4)\n",
    "        next_state,reward,done = env.step(action)\n",
    "        processed_next_state = preprocess_image(next_state)\n",
    "        \n",
    "        local_memory.append((processed_prev_state,action,reward,processed_next_state))\n",
    "        \n",
    "        prev_state = next_state\n",
    "        processed_prev_state = processed_next_state\n",
    "    \n",
    "    mem.add_episode(local_memory)\n",
    "        \n",
    "print('Populated with %d Episodes'%(len(mem.memory)))\n",
    "\n",
    "# Start Algorithm\n",
    "epsilon = INITIAL_EPSILON\n",
    "loss_stat = []\n",
    "reward_stat = []\n",
    "total_steps = 0\n",
    "\n",
    "for episode in range(0,TOTAL_EPSIODES):\n",
    "    \n",
    "    prev_state = env.reset()\n",
    "    processed_prev_state = preprocess_image(prev_state)\n",
    "    total_reward = 0\n",
    "    step_count = 0\n",
    "    local_memory = []\n",
    "\n",
    "    hidden_state, cell_state = main_model.init_hidden_states(bsize=1)\n",
    "    \n",
    "    while step_count < MAX_STEPS:\n",
    "        \n",
    "        step_count +=1\n",
    "        total_steps +=1\n",
    "        \n",
    "        if np.random.rand(1) < epsilon:\n",
    "            torch_x = torch.from_numpy(processed_prev_state).float().to(device)\n",
    "            model_out = main_model.forward(torch_x,bsize=1,time_step=1,hidden_state=hidden_state,cell_state=cell_state)\n",
    "            action = np.random.randint(0,4)\n",
    "            hidden_state = model_out[1][0]\n",
    "            cell_state = model_out[1][1]\n",
    "            \n",
    "        else:\n",
    "            torch_x = torch.from_numpy(processed_prev_state).float().to(device)\n",
    "            model_out = main_model.forward(torch_x,bsize=1,time_step=1,hidden_state=hidden_state,cell_state=cell_state)\n",
    "            out = model_out[0]\n",
    "            action = int(torch.argmax(out[0]))\n",
    "            hidden_state = model_out[1][0]\n",
    "            cell_state = model_out[1][1]\n",
    "        \n",
    "        next_state,reward,done = env.step(action)\n",
    "        total_reward += reward\n",
    "        processed_next_state = preprocess_image(next_state)\n",
    "        \n",
    "        local_memory.append((processed_prev_state,action,reward,processed_next_state))\n",
    "        \n",
    "        prev_state = next_state\n",
    "        processed_prev_state = processed_next_state\n",
    "        \n",
    "        \n",
    "        if (total_steps % TARGET_UPDATE_FREQ) == 0:\n",
    "            target_model.load_state_dict(main_model.state_dict())\n",
    "       \n",
    "        if (total_steps % UPDATE_FREQ) == 0:\n",
    "            \n",
    "            hidden_batch, cell_batch = main_model.init_hidden_states(bsize=BATCH_SIZE)\n",
    "            \n",
    "            batch = mem.get_batch(bsize=BATCH_SIZE,time_step=TIME_STEP)\n",
    "            \n",
    "            current_states = []\n",
    "            acts = []\n",
    "            rewards = []\n",
    "            next_states = []\n",
    "            \n",
    "            for b in batch:\n",
    "                cs,ac,rw,ns = [],[],[],[]\n",
    "                for element in b:\n",
    "                    cs.append(element[0])\n",
    "                    ac.append(element[1])\n",
    "                    rw.append(element[2])\n",
    "                    ns.append(element[3])\n",
    "                current_states.append(cs)\n",
    "                acts.append(ac)\n",
    "                rewards.append(rw)\n",
    "                next_states.append(ns)\n",
    "            \n",
    "            current_states = np.array(current_states)\n",
    "            acts = np.array(acts)\n",
    "            rewards = np.array(rewards)\n",
    "            next_states = np.array(next_states)\n",
    "            \n",
    "            torch_current_states = torch.from_numpy(current_states).float().to(device)\n",
    "            torch_acts = torch.from_numpy(acts).long().to(device)\n",
    "            torch_rewards = torch.from_numpy(rewards).float().to(device)\n",
    "            torch_next_states = torch.from_numpy(next_states).float().to(device)\n",
    "            \n",
    "            \n",
    "            Q_next,_ = target_model.forward(torch_next_states,bsize=BATCH_SIZE,time_step=TIME_STEP,hidden_state=hidden_batch,cell_state=cell_batch)\n",
    "            Q_next_max,__ = Q_next.detach().max(dim=1)\n",
    "            target_values = torch_rewards[:,TIME_STEP-1] + (GAMMA * Q_next_max)\n",
    "            \n",
    "            Q_s, _ = main_model.forward(torch_current_states,bsize=BATCH_SIZE,time_step=TIME_STEP,hidden_state=hidden_batch,cell_state=cell_batch)\n",
    "            Q_s_a = Q_s.gather(dim=1,index=torch_acts[:,TIME_STEP-1].unsqueeze(dim=1)).squeeze(dim=1)\n",
    "            \n",
    "            \n",
    "            loss = criterion(Q_s_a,target_values)\n",
    "            \n",
    "            #  save performance measure\n",
    "            loss_stat.append(loss.item())\n",
    "            \n",
    "            # make previous grad zero\n",
    "            optimizer.zero_grad()\n",
    "            \n",
    "            # backward\n",
    "            loss.backward()\n",
    "            \n",
    "            # update params\n",
    "            optimizer.step()\n",
    "\n",
    "    # save performance measure\n",
    "    reward_stat.append(total_reward)\n",
    "    \n",
    "    mem.add_episode(local_memory)\n",
    "\n",
    "    if epsilon > FINAL_EPSILON:\n",
    "        epsilon -= (INITIAL_EPSILON - FINAL_EPSILON)/TOTAL_EPSIODES\n",
    "    \n",
    "    if (episode + 1)% PERFORMANCE_SAVE_INTERVAL == 0:\n",
    "        perf = {}\n",
    "        perf['loss'] = loss_stat\n",
    "        perf['total_reward'] = reward_stat\n",
    "        save_obj(name='LSTM_POMDP_V4',obj=perf)\n",
    "    \n",
    "    #print('Episode : ',episode+1,'Epsilon : ',epsilon,'Reward : ',total_reward,)\n",
    "            "
   ]
  },
  {
   "cell_type": "markdown",
   "metadata": {},
   "source": [
    "<h3> Save Primary Network Weights </h3>"
   ]
  },
  {
   "cell_type": "code",
   "execution_count": null,
   "metadata": {
    "collapsed": true
   },
   "outputs": [],
   "source": [
    "torch.save(main_model.state_dict(),'data/LSTM_POMDP_V4_WEIGHTS.torch')"
   ]
  },
  {
   "cell_type": "markdown",
   "metadata": {},
   "source": [
    "<h1 align='center'> Testing Policy </h1>"
   ]
  },
  {
   "cell_type": "markdown",
   "metadata": {},
   "source": [
    "<h3> Load Primary Network Weights </h3>"
   ]
  },
  {
   "cell_type": "code",
   "execution_count": 10,
   "metadata": {},
   "outputs": [],
   "source": [
    "weights = torch.load('data/LSTM_POMDP_V4_WEIGHTS.torch', map_location='cpu')\n",
    "main_model.load_state_dict(weights)"
   ]
  },
  {
   "cell_type": "code",
   "execution_count": null,
   "metadata": {
    "collapsed": true
   },
   "outputs": [],
   "source": [
    "# Start Testing\n",
    "epsilon = INITIAL_EPSILON\n",
    "FINAL_EPSILON = 0.01\n",
    "TOTAL_EPSIODES = 10000\n",
    "loss_stat = []\n",
    "reward_stat = []\n",
    "total_steps = 0\n",
    "\n",
    "for episode in range(0,TOTAL_EPSIODES):\n",
    "    \n",
    "    prev_state = env.reset()\n",
    "    processed_prev_state = preprocess_image(prev_state)\n",
    "    total_reward = 0\n",
    "    step_count = 0\n",
    "    \n",
    "    hidden_state, cell_state = main_model.init_hidden_states(bsize=1)\n",
    "    \n",
    "    while step_count < MAX_STEPS:\n",
    "        \n",
    "        step_count +=1\n",
    "        total_steps +=1\n",
    "        \n",
    "        if np.random.rand(1) < epsilon:\n",
    "            torch_x = torch.from_numpy(processed_prev_state).float().to(device)\n",
    "            model_out = main_model.forward(torch_x,bsize=1,time_step=1,hidden_state=hidden_state,cell_state=cell_state)\n",
    "            action = np.random.randint(0,4)\n",
    "            hidden_state = model_out[1][0]\n",
    "            cell_state = model_out[1][1]\n",
    "            \n",
    "        else:\n",
    "            torch_x = torch.from_numpy(processed_prev_state).float().to(device)\n",
    "            model_out = main_model.forward(torch_x,bsize=1,time_step=1,hidden_state=hidden_state,cell_state=cell_state)\n",
    "            out = model_out[0]\n",
    "            action = int(torch.argmax(out[0]))\n",
    "            hidden_state = model_out[1][0]\n",
    "            cell_state = model_out[1][1]\n",
    "        \n",
    "        next_state,reward,done = env.step(action)\n",
    "        total_reward += reward\n",
    "        processed_next_state = preprocess_image(next_state)\n",
    "        \n",
    "        prev_state = next_state\n",
    "        processed_prev_state = processed_next_state\n",
    "            \n",
    "    # save performance measure\n",
    "    reward_stat.append(total_reward)\n",
    "    \n",
    "    if epsilon > FINAL_EPSILON:\n",
    "        epsilon -= (INITIAL_EPSILON - FINAL_EPSILON)/TOTAL_EPSIODES\n",
    "    \n",
    "    if (episode + 1)% PERFORMANCE_SAVE_INTERVAL == 0:\n",
    "        perf = {}\n",
    "        perf['loss'] = loss_stat\n",
    "        perf['total_reward'] = reward_stat\n",
    "        save_obj(name='LSTM_POMDP_V4_TEST',obj=perf)\n",
    "    \n",
    "    print('Episode : ',episode+1,'Epsilon : ',epsilon,'Reward : ',total_reward)\n",
    "            "
   ]
  },
  {
   "cell_type": "markdown",
   "metadata": {},
   "source": [
    "<h1 align='center'> Create Policy GIF </h1>"
   ]
  },
  {
   "cell_type": "markdown",
   "metadata": {},
   "source": [
    "<h3> Collect Frames Of an Episode Using Trained Network </h3>"
   ]
  },
  {
   "cell_type": "code",
   "execution_count": 41,
   "metadata": {},
   "outputs": [
    {
     "data": {
      "image/png": "[encoded data removed]",
      "text/plain": [
       "<Figure size 432x288 with 1 Axes>"
      ]
     },
     "metadata": {
      "needs_background": "light"
     },
     "output_type": "display_data"
    }
   ],
   "source": [
    "full_env = gameEnv(partial=False,size=9)"
   ]
  },
  {
   "cell_type": "code",
   "execution_count": 219,
   "metadata": {},
   "outputs": [
    {
     "name": "stdout",
     "output_type": "stream",
     "text": [
      "Total Reward : 3\n"
     ]
    }
   ],
   "source": [
    "frames = []\n",
    "agent_locs = []\n",
    "local_frames = []\n",
    "random.seed(110)\n",
    "np.random.seed(110)\n",
    "\n",
    "for episode in range(0,1):\n",
    "    \n",
    "    prev_state = env.reset()\n",
    "    random.seed(110)\n",
    "    np.random.seed(110)\n",
    "    full_env_prev = full_env.reset()\n",
    "    \n",
    "    frames.append(full_env_prev)\n",
    "    agent_locs.append((full_env.objects[0].x, full_env.objects[0].y))\n",
    "    local_frames.append(prev_state)\n",
    "    processed_prev_state = preprocess_image(prev_state)\n",
    "    total_reward = 0\n",
    "    step_count = 0\n",
    "    \n",
    "    hidden_state, cell_state = main_model.init_hidden_states(bsize=1)\n",
    "    \n",
    "    while step_count < MAX_STEPS:\n",
    "        \n",
    "        step_count +=1\n",
    "        \n",
    "        torch_x = torch.from_numpy(processed_prev_state).float().to(device)\n",
    "        model_out = main_model.forward(torch_x,bsize=1,time_step=1,hidden_state=hidden_state,cell_state=cell_state)\n",
    "        out = model_out[0]\n",
    "        action = int(torch.argmax(out[0]))\n",
    "        hidden_state = model_out[1][0]\n",
    "        cell_state = model_out[1][1]\n",
    "        \n",
    "        next_state, reward, d = env.step(action)\n",
    "        full_env_next,r,g = full_env.step(action)\n",
    "        agent_locs.append((full_env.objects[0].x, full_env.objects[0].y))\n",
    "        #print(full_env.objects[0].x, full_env.objects[0].y)\n",
    "        total_reward += reward\n",
    "        frames.append(full_env_next)\n",
    "        local_frames.append(next_state)\n",
    "        processed_next_state = preprocess_image(next_state)\n",
    "        \n",
    "        \n",
    "        prev_state = next_state\n",
    "        processed_prev_state = processed_next_state\n",
    "\n",
    "print('Total Reward : %d'%(total_reward))"
   ]
  },
  {
   "cell_type": "code",
   "execution_count": 220,
   "metadata": {},
   "outputs": [],
   "source": [
    "from PIL import Image, ImageDraw"
   ]
  },
  {
   "cell_type": "code",
   "execution_count": 221,
   "metadata": {},
   "outputs": [],
   "source": [
    "locs = {}\n",
    "locs[(2,1)] = [(15, 8), (37, 30)]\n",
    "locs[(2,2)] = [(15, 15), (37, 37)]\n",
    "locs[(2,0)] = [(15, 0), (37, 22)]\n",
    "locs[(3,0)] = [(22, 0), (44, 22)]\n",
    "locs[(3,2)] = [(22, 15), (44, 37)]\n",
    "locs[(3,3)] = [(22, 22), (45, 45)]\n",
    "locs[(4,3)] = [(29, 22), (51, 45)]\n",
    "locs[(4,2)] = [(29, 15), (51, 37)]\n",
    "locs[(5,2)] = [(38, 15), (60, 37)]\n",
    "locs[(5,3)] = [(38, 23), (60, 45)]\n",
    "locs[(5,4)] = [(38, 30), (60, 52)]\n",
    "locs[(5,5)] = [(38, 38), (60, 60)]\n",
    "locs[(4,5)] = [(31, 38), (53, 60)]\n",
    "locs[(4,6)] = [(31, 46), (53, 68)]\n",
    "locs[(4,7)] = [(31, 53), (53, 75)]\n",
    "locs[(4,8)] = [(31, 61), (53, 83)]\n",
    "locs[(5,8)] = [(38, 61), (60, 83)]"
   ]
  },
  {
   "cell_type": "code",
   "execution_count": 222,
   "metadata": {},
   "outputs": [
    {
     "data": {
      "text/plain": [
       "{(2, 0),\n",
       " (2, 1),\n",
       " (2, 2),\n",
       " (3, 0),\n",
       " (3, 2),\n",
       " (3, 3),\n",
       " (4, 2),\n",
       " (4, 3),\n",
       " (4, 5),\n",
       " (4, 6),\n",
       " (4, 7),\n",
       " (4, 8),\n",
       " (5, 2),\n",
       " (5, 3),\n",
       " (5, 4),\n",
       " (5, 5),\n",
       " (5, 8)}"
      ]
     },
     "execution_count": 222,
     "metadata": {},
     "output_type": "execute_result"
    }
   ],
   "source": [
    "set(agent_locs)"
   ]
  },
  {
   "cell_type": "code",
   "execution_count": 223,
   "metadata": {},
   "outputs": [],
   "source": [
    "for idx, img in enumerate(frames):\n",
    "    image = Image.fromarray(img)\n",
    "    drawer = ImageDraw.Draw(image)\n",
    "    drawer.rectangle(locs[agent_locs[idx]], outline=(255, 255, 0))\n",
    "    frames[idx] = np.array(image)"
   ]
  },
  {
   "cell_type": "markdown",
   "metadata": {},
   "source": [
    "<h3> Frames to GIF </h3>"
   ]
  },
  {
   "cell_type": "code",
   "execution_count": 224,
   "metadata": {},
   "outputs": [
    {
     "name": "stderr",
     "output_type": "stream",
     "text": [
      "/home/mayank/miniconda3/envs/rdqn/lib/python3.5/site-packages/ipykernel_launcher.py:7: DeprecationWarning: `imresize` is deprecated!\n",
      "`imresize` is deprecated in SciPy 1.0.0, and will be removed in 1.2.0.\n",
      "Use ``skimage.transform.resize`` instead.\n",
      "  import sys\n",
      "/home/mayank/miniconda3/envs/rdqn/lib/python3.5/site-packages/ipykernel_launcher.py:8: DeprecationWarning: `imresize` is deprecated!\n",
      "`imresize` is deprecated in SciPy 1.0.0, and will be removed in 1.2.0.\n",
      "Use ``skimage.transform.resize`` instead.\n",
      "  \n"
     ]
    }
   ],
   "source": [
    "import imageio\n",
    "from scipy.misc import imresize\n",
    "resized_frames = []\n",
    "resized_local_frames = []\n",
    "\n",
    "for i in range(0,len(frames)):\n",
    "    resized_frames.append(imresize(frames[i],(256,256)))\n",
    "    resized_local_frames.append(imresize(local_frames[i],(256,256)))\n",
    "\n",
    "imageio.mimsave('data/GIFs/LSTM_SIZE_9_frames.gif',resized_frames,fps=3)\n",
    "imageio.mimsave('data/GIFs/LSTM_SIZE_9_local.gif',resized_local_frames,fps=3)"
   ]
  }
 ],
 "metadata": {
  "kernelspec": {
   "display_name": "Python 3",
   "language": "python",
   "name": "python3"
  },
  "language_info": {
   "codemirror_mode": {
    "name": "ipython",
    "version": 3
   },
   "file_extension": ".py",
   "mimetype": "text/x-python",
   "name": "python",
   "nbconvert_exporter": "python",
   "pygments_lexer": "ipython3",
   "version": "3.5.6"
  }
 },
 "nbformat": 4,
 "nbformat_minor": 2
}
